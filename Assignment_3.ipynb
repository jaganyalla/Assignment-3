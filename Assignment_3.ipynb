{
  "nbformat": 4,
  "nbformat_minor": 0,
  "metadata": {
    "colab": {
      "name": "Assignment-3.ipynb",
      "provenance": [],
      "collapsed_sections": []
    },
    "kernelspec": {
      "name": "python3",
      "display_name": "Python 3"
    }
  },
  "cells": [
    {
      "cell_type": "code",
      "metadata": {
        "id": "RgmRchL7psf_",
        "colab_type": "code",
        "outputId": "d35a2502-a300-4227-f885-f09fc59d0d34",
        "colab": {
          "base_uri": "https://localhost:8080/",
          "height": 34
        }
      },
      "source": [
        "def exception_catching():\n",
        "  try:\n",
        "    a = 5/0\n",
        "  except Exception as e: \n",
        "    print (str(e))\n",
        "  \n",
        "exception_catching()"
      ],
      "execution_count": 0,
      "outputs": [
        {
          "output_type": "stream",
          "text": [
            "division by zero\n"
          ],
          "name": "stdout"
        }
      ]
    },
    {
      "cell_type": "code",
      "metadata": {
        "id": "8JnWUJnGrBeJ",
        "colab_type": "code",
        "outputId": "c987981a-be1a-4a0c-873a-a2fd28a24ff7",
        "colab": {
          "base_uri": "https://localhost:8080/",
          "height": 151
        }
      },
      "source": [
        "#@title Default title text\n",
        "a = [(x,y,z) for x in [\"Americans\", \"Indians\"] for y in  [\"Play\", \"watch\"] for z in  [\"Baseball\",\"cricket\"] ]\n",
        "\n",
        "for i in a:\n",
        "  print (str(i).replace(',','').replace(\"'\",'').replace(\"(\",'').replace(\")\",'') +\".\")"
      ],
      "execution_count": 0,
      "outputs": [
        {
          "output_type": "stream",
          "text": [
            "Americans Play Baseball.\n",
            "Americans Play cricket.\n",
            "Americans watch Baseball.\n",
            "Americans watch cricket.\n",
            "Indians Play Baseball.\n",
            "Indians Play cricket.\n",
            "Indians watch Baseball.\n",
            "Indians watch cricket.\n"
          ],
          "name": "stdout"
        }
      ]
    },
    {
      "cell_type": "code",
      "metadata": {
        "id": "vvjZ4g5lwmKn",
        "colab_type": "code",
        "outputId": "e34a833c-8eb5-4686-8841-a6b296018718",
        "colab": {
          "base_uri": "https://localhost:8080/",
          "height": 34
        }
      },
      "source": [
        "mat=[[1,2,3,4],[4,5,6,7],[7,8,9,10]]\n",
        "final_matrix = []\n",
        "for i in mat:\n",
        "  m = 0\n",
        "  current_matrix = []\n",
        "  for k in i:\n",
        "    current_matrix.append(pow(k,m))\n",
        "    m = m + 1\n",
        "  final_matrix.append(current_matrix)\n",
        "print(final_matrix)\n",
        "\n",
        "\n"
      ],
      "execution_count": 3,
      "outputs": [
        {
          "output_type": "stream",
          "text": [
            "[[1, 2, 9, 64], [1, 5, 36, 343], [1, 8, 81, 1000]]\n"
          ],
          "name": "stdout"
        }
      ]
    },
    {
      "cell_type": "code",
      "metadata": {
        "id": "xSQnXmn0xDV7",
        "colab_type": "code",
        "colab": {}
      },
      "source": [
        "\n"
      ],
      "execution_count": 0,
      "outputs": []
    }
  ]
}